{
 "cells": [
  {
   "cell_type": "markdown",
   "id": "ba5d6820-d478-4237-a36e-75fe406f894c",
   "metadata": {
    "tags": []
   },
   "source": [
    "# Data Science Tools and Ecosystem"
   ]
  },
  {
   "cell_type": "markdown",
   "id": "4d95243b-b28b-485e-a7c4-53e020152549",
   "metadata": {},
   "source": [
    "## In this notebook, Data Science Tools and Ecosystem are summarized."
   ]
  },
  {
   "cell_type": "markdown",
   "id": "b09564af-f370-42f3-8d6d-e95785de9014",
   "metadata": {},
   "source": [
    "**Objectives:**\n",
    "\n",
    "* List languages for Data Science\n",
    "* List libraries for Data Science\n",
    "* Write code cells for arithmetic calculation"
   ]
  },
  {
   "cell_type": "markdown",
   "id": "9160a490-9ae2-44f0-82bc-d52a62320d9c",
   "metadata": {},
   "source": [
    "Some of the popular languages that Data Scientists use are:\n",
    "\n",
    "1. Python\n",
    "2. R\n",
    "3. SQL"
   ]
  },
  {
   "cell_type": "markdown",
   "id": "0a929e7e-10dc-498e-96cf-2989f730f8ac",
   "metadata": {},
   "source": [
    "Some of the commonly used libraries used by Data Scientists include:\n",
    "1. Pandas\n",
    "2. NumPy\n",
    "3. Matplotlib"
   ]
  },
  {
   "cell_type": "markdown",
   "id": "f933b2fc-db4e-481e-80c1-0de04442b199",
   "metadata": {},
   "source": [
    "Data Science Tools |\n",
    "| -------------| \n",
    "| Jupiter Notebook | \n",
    "| Rstudio | \n",
    "| Apache Zeppelin | "
   ]
  },
  {
   "cell_type": "markdown",
   "id": "8510e5fe-b5e7-48c1-b1ca-8b87131a92b0",
   "metadata": {},
   "source": [
    "### Below are a few examples of evaluating arithmetic expressions in Python"
   ]
  },
  {
   "cell_type": "code",
   "execution_count": 1,
   "id": "7408e91c-54ea-45d4-bb9a-885b5b2c98e7",
   "metadata": {
    "tags": []
   },
   "outputs": [
    {
     "data": {
      "text/plain": [
       "17"
      ]
     },
     "execution_count": 1,
     "metadata": {},
     "output_type": "execute_result"
    }
   ],
   "source": [
    "# This a simple arithmetic expression to mutiply then add integers\n",
    "\n",
    "(3*4)+5"
   ]
  },
  {
   "cell_type": "code",
   "execution_count": 2,
   "id": "3ba727a4-c7cc-4f2c-96dc-8e42d5ba8899",
   "metadata": {
    "tags": []
   },
   "outputs": [
    {
     "data": {
      "text/plain": [
       "3.3333333333333335"
      ]
     },
     "execution_count": 2,
     "metadata": {},
     "output_type": "execute_result"
    }
   ],
   "source": [
    "# This will convert 200 minutes to hours by diving by 60\n",
    "\n",
    "200/60"
   ]
  },
  {
   "cell_type": "markdown",
   "id": "f51b3076-177b-4c6e-8cea-ed6837c88906",
   "metadata": {},
   "source": [
    "## Author\n",
    "Sara "
   ]
  },
  {
   "cell_type": "code",
   "execution_count": null,
   "id": "5d7d2863-e5c5-4edf-a9d8-9782072938ee",
   "metadata": {},
   "outputs": [],
   "source": []
  }
 ],
 "metadata": {
  "kernelspec": {
   "display_name": "Python",
   "language": "python",
   "name": "conda-env-python-py"
  },
  "language_info": {
   "codemirror_mode": {
    "name": "ipython",
    "version": 3
   },
   "file_extension": ".py",
   "mimetype": "text/x-python",
   "name": "python",
   "nbconvert_exporter": "python",
   "pygments_lexer": "ipython3",
   "version": "3.7.12"
  }
 },
 "nbformat": 4,
 "nbformat_minor": 5
}
